{
 "cells": [
  {
   "cell_type": "code",
   "execution_count": null,
   "id": "c8132fe0",
   "metadata": {},
   "outputs": [],
   "source": [
    "# pip install numpy\n",
    "# pip install matplotlib\n",
    "# !pip install pandas"
   ]
  },
  {
   "cell_type": "code",
   "execution_count": null,
   "id": "13621d7a",
   "metadata": {},
   "outputs": [],
   "source": []
  },
  {
   "cell_type": "code",
   "execution_count": 1,
   "id": "7407a104",
   "metadata": {},
   "outputs": [],
   "source": [
    "import numpy as np\n",
    "import matplotlib.pyplot as plt\n",
    "import pandas as pd\n",
    "import math"
   ]
  },
  {
   "cell_type": "markdown",
   "id": "7ab26aee",
   "metadata": {},
   "source": [
    "# Cereal analysis"
   ]
  },
  {
   "cell_type": "code",
   "execution_count": 2,
   "id": "ef3ee537",
   "metadata": {},
   "outputs": [],
   "source": [
    "df=pd.read_csv('cereal.csv')"
   ]
  },
  {
   "cell_type": "markdown",
   "id": "2521816d",
   "metadata": {},
   "source": [
    "## Content\n",
    "### Fields in the dataset:\n",
    "\n",
    "Name: Name of cereal <br> \n",
    "mfr: Manufacturer of cereal <br> \n",
    "A = American Home Food Products <br> \n",
    "G = General Mills <br> \n",
    "K = Kelloggs <br> \n",
    "N = Nabisco <br> \n",
    "P = Post <br>\n",
    "Q = Quaker Oats <br> \n",
    "R = Ralston Purina <br> \n",
    "type: cold & hot <br> \n",
    "calories: calories per serving <br> \n",
    "protein: grams of protein <br> \n",
    "fat: grams of fat <br> \n",
    "sodium: milligrams of sodium <br> \n",
    "fiber: grams of dietary fiber <br> \n",
    "carbo: grams of complex carbohydrates <br> \n",
    "sugars: grams of sugars <br> \n",
    "potass: milligrams of potassium <br> \n",
    "vitamins: vitamins and minerals - 0, 25, or 100, indicating the typical percentage of FDA recommended <br> \n",
    "shelf: display shelf (1, 2, or 3, counting from the floor) <br> \n",
    "weight: weight in ounces of one serving <br> \n",
    "cups: number of cups in one serving <br> \n",
    "rating: a rating of the cereals (Possibly from Consumer Reports?) <br> \n",
    "Acknowledgements: <br> \n",
    "These datasets have been gathered and cleaned up by Petra Isenberg, Pierre Dragicevic and Yvonne Jansen. <br> \n",
    "The original source can be found here <br> \n",
    "\n",
    "This dataset has been converted to CSV <br> \n",
    "\n",
    "Inspiration <br> "
   ]
  },
  {
   "cell_type": "code",
   "execution_count": 3,
   "id": "23cbd7e4",
   "metadata": {},
   "outputs": [
    {
     "name": "stdout",
     "output_type": "stream",
     "text": [
      "data frame orderd by rating:\n"
     ]
    },
    {
     "data": {
      "text/html": [
       "<div>\n",
       "<style scoped>\n",
       "    .dataframe tbody tr th:only-of-type {\n",
       "        vertical-align: middle;\n",
       "    }\n",
       "\n",
       "    .dataframe tbody tr th {\n",
       "        vertical-align: top;\n",
       "    }\n",
       "\n",
       "    .dataframe thead th {\n",
       "        text-align: right;\n",
       "    }\n",
       "</style>\n",
       "<table border=\"1\" class=\"dataframe\">\n",
       "  <thead>\n",
       "    <tr style=\"text-align: right;\">\n",
       "      <th></th>\n",
       "      <th>name</th>\n",
       "      <th>Manufacturer</th>\n",
       "      <th>type</th>\n",
       "      <th>calories</th>\n",
       "      <th>protein</th>\n",
       "      <th>fat</th>\n",
       "      <th>sodium</th>\n",
       "      <th>fiber</th>\n",
       "      <th>Carbohydrates</th>\n",
       "      <th>sugars</th>\n",
       "      <th>Potassium</th>\n",
       "      <th>vitamins</th>\n",
       "      <th>shelf</th>\n",
       "      <th>weight</th>\n",
       "      <th>cups</th>\n",
       "      <th>rating</th>\n",
       "    </tr>\n",
       "  </thead>\n",
       "  <tbody>\n",
       "    <tr>\n",
       "      <th>3</th>\n",
       "      <td>All-Bran with Extra Fiber</td>\n",
       "      <td>K</td>\n",
       "      <td>C</td>\n",
       "      <td>50</td>\n",
       "      <td>4</td>\n",
       "      <td>0</td>\n",
       "      <td>140</td>\n",
       "      <td>14.0</td>\n",
       "      <td>8.0</td>\n",
       "      <td>0</td>\n",
       "      <td>330</td>\n",
       "      <td>25</td>\n",
       "      <td>3</td>\n",
       "      <td>1.00</td>\n",
       "      <td>0.50</td>\n",
       "      <td>93.704912</td>\n",
       "    </tr>\n",
       "    <tr>\n",
       "      <th>64</th>\n",
       "      <td>Shredded Wheat 'n'Bran</td>\n",
       "      <td>N</td>\n",
       "      <td>C</td>\n",
       "      <td>90</td>\n",
       "      <td>3</td>\n",
       "      <td>0</td>\n",
       "      <td>0</td>\n",
       "      <td>4.0</td>\n",
       "      <td>19.0</td>\n",
       "      <td>0</td>\n",
       "      <td>140</td>\n",
       "      <td>0</td>\n",
       "      <td>1</td>\n",
       "      <td>1.00</td>\n",
       "      <td>0.67</td>\n",
       "      <td>74.472949</td>\n",
       "    </tr>\n",
       "    <tr>\n",
       "      <th>65</th>\n",
       "      <td>Shredded Wheat spoon size</td>\n",
       "      <td>N</td>\n",
       "      <td>C</td>\n",
       "      <td>90</td>\n",
       "      <td>3</td>\n",
       "      <td>0</td>\n",
       "      <td>0</td>\n",
       "      <td>3.0</td>\n",
       "      <td>20.0</td>\n",
       "      <td>0</td>\n",
       "      <td>120</td>\n",
       "      <td>0</td>\n",
       "      <td>1</td>\n",
       "      <td>1.00</td>\n",
       "      <td>0.67</td>\n",
       "      <td>72.801787</td>\n",
       "    </tr>\n",
       "    <tr>\n",
       "      <th>0</th>\n",
       "      <td>100% Bran</td>\n",
       "      <td>N</td>\n",
       "      <td>C</td>\n",
       "      <td>70</td>\n",
       "      <td>4</td>\n",
       "      <td>1</td>\n",
       "      <td>130</td>\n",
       "      <td>10.0</td>\n",
       "      <td>5.0</td>\n",
       "      <td>6</td>\n",
       "      <td>280</td>\n",
       "      <td>25</td>\n",
       "      <td>3</td>\n",
       "      <td>1.00</td>\n",
       "      <td>0.33</td>\n",
       "      <td>68.402973</td>\n",
       "    </tr>\n",
       "    <tr>\n",
       "      <th>63</th>\n",
       "      <td>Shredded Wheat</td>\n",
       "      <td>N</td>\n",
       "      <td>C</td>\n",
       "      <td>80</td>\n",
       "      <td>2</td>\n",
       "      <td>0</td>\n",
       "      <td>0</td>\n",
       "      <td>3.0</td>\n",
       "      <td>16.0</td>\n",
       "      <td>0</td>\n",
       "      <td>95</td>\n",
       "      <td>0</td>\n",
       "      <td>1</td>\n",
       "      <td>0.83</td>\n",
       "      <td>1.00</td>\n",
       "      <td>68.235885</td>\n",
       "    </tr>\n",
       "    <tr>\n",
       "      <th>20</th>\n",
       "      <td>Cream of Wheat (Quick)</td>\n",
       "      <td>N</td>\n",
       "      <td>H</td>\n",
       "      <td>100</td>\n",
       "      <td>3</td>\n",
       "      <td>0</td>\n",
       "      <td>80</td>\n",
       "      <td>1.0</td>\n",
       "      <td>21.0</td>\n",
       "      <td>0</td>\n",
       "      <td>-1</td>\n",
       "      <td>0</td>\n",
       "      <td>2</td>\n",
       "      <td>1.00</td>\n",
       "      <td>1.00</td>\n",
       "      <td>64.533816</td>\n",
       "    </tr>\n",
       "    <tr>\n",
       "      <th>55</th>\n",
       "      <td>Puffed Wheat</td>\n",
       "      <td>Q</td>\n",
       "      <td>C</td>\n",
       "      <td>50</td>\n",
       "      <td>2</td>\n",
       "      <td>0</td>\n",
       "      <td>0</td>\n",
       "      <td>1.0</td>\n",
       "      <td>10.0</td>\n",
       "      <td>0</td>\n",
       "      <td>50</td>\n",
       "      <td>0</td>\n",
       "      <td>3</td>\n",
       "      <td>0.50</td>\n",
       "      <td>1.00</td>\n",
       "      <td>63.005645</td>\n",
       "    </tr>\n",
       "    <tr>\n",
       "      <th>54</th>\n",
       "      <td>Puffed Rice</td>\n",
       "      <td>Q</td>\n",
       "      <td>C</td>\n",
       "      <td>50</td>\n",
       "      <td>1</td>\n",
       "      <td>0</td>\n",
       "      <td>0</td>\n",
       "      <td>0.0</td>\n",
       "      <td>13.0</td>\n",
       "      <td>0</td>\n",
       "      <td>15</td>\n",
       "      <td>0</td>\n",
       "      <td>3</td>\n",
       "      <td>0.50</td>\n",
       "      <td>1.00</td>\n",
       "      <td>60.756112</td>\n",
       "    </tr>\n",
       "    <tr>\n",
       "      <th>50</th>\n",
       "      <td>Nutri-grain Wheat</td>\n",
       "      <td>K</td>\n",
       "      <td>C</td>\n",
       "      <td>90</td>\n",
       "      <td>3</td>\n",
       "      <td>0</td>\n",
       "      <td>170</td>\n",
       "      <td>3.0</td>\n",
       "      <td>18.0</td>\n",
       "      <td>2</td>\n",
       "      <td>90</td>\n",
       "      <td>25</td>\n",
       "      <td>3</td>\n",
       "      <td>1.00</td>\n",
       "      <td>1.00</td>\n",
       "      <td>59.642837</td>\n",
       "    </tr>\n",
       "    <tr>\n",
       "      <th>2</th>\n",
       "      <td>All-Bran</td>\n",
       "      <td>K</td>\n",
       "      <td>C</td>\n",
       "      <td>70</td>\n",
       "      <td>4</td>\n",
       "      <td>1</td>\n",
       "      <td>260</td>\n",
       "      <td>9.0</td>\n",
       "      <td>7.0</td>\n",
       "      <td>5</td>\n",
       "      <td>320</td>\n",
       "      <td>25</td>\n",
       "      <td>3</td>\n",
       "      <td>1.00</td>\n",
       "      <td>0.33</td>\n",
       "      <td>59.425505</td>\n",
       "    </tr>\n",
       "  </tbody>\n",
       "</table>\n",
       "</div>"
      ],
      "text/plain": [
       "                         name Manufacturer type  calories  protein  fat  \\\n",
       "3   All-Bran with Extra Fiber            K    C        50        4    0   \n",
       "64     Shredded Wheat 'n'Bran            N    C        90        3    0   \n",
       "65  Shredded Wheat spoon size            N    C        90        3    0   \n",
       "0                   100% Bran            N    C        70        4    1   \n",
       "63             Shredded Wheat            N    C        80        2    0   \n",
       "20     Cream of Wheat (Quick)            N    H       100        3    0   \n",
       "55               Puffed Wheat            Q    C        50        2    0   \n",
       "54                Puffed Rice            Q    C        50        1    0   \n",
       "50          Nutri-grain Wheat            K    C        90        3    0   \n",
       "2                    All-Bran            K    C        70        4    1   \n",
       "\n",
       "    sodium  fiber  Carbohydrates  sugars  Potassium  vitamins  shelf  weight  \\\n",
       "3      140   14.0            8.0       0        330        25      3    1.00   \n",
       "64       0    4.0           19.0       0        140         0      1    1.00   \n",
       "65       0    3.0           20.0       0        120         0      1    1.00   \n",
       "0      130   10.0            5.0       6        280        25      3    1.00   \n",
       "63       0    3.0           16.0       0         95         0      1    0.83   \n",
       "20      80    1.0           21.0       0         -1         0      2    1.00   \n",
       "55       0    1.0           10.0       0         50         0      3    0.50   \n",
       "54       0    0.0           13.0       0         15         0      3    0.50   \n",
       "50     170    3.0           18.0       2         90        25      3    1.00   \n",
       "2      260    9.0            7.0       5        320        25      3    1.00   \n",
       "\n",
       "    cups     rating  \n",
       "3   0.50  93.704912  \n",
       "64  0.67  74.472949  \n",
       "65  0.67  72.801787  \n",
       "0   0.33  68.402973  \n",
       "63  1.00  68.235885  \n",
       "20  1.00  64.533816  \n",
       "55  1.00  63.005645  \n",
       "54  1.00  60.756112  \n",
       "50  1.00  59.642837  \n",
       "2   0.33  59.425505  "
      ]
     },
     "execution_count": 3,
     "metadata": {},
     "output_type": "execute_result"
    }
   ],
   "source": [
    "df.rename(columns={\"mfr\":\"Manufacturer\",\"potass\":\"Potassium\",\"carbo\":\"Carbohydrates\"},inplace=True)\n",
    "df = df.sort_values(\"rating\",ascending=False)\n",
    "print(\"data frame orderd by rating:\")\n",
    "df.head(10)"
   ]
  },
  {
   "cell_type": "code",
   "execution_count": 4,
   "id": "0132573e",
   "metadata": {},
   "outputs": [
    {
     "name": "stdout",
     "output_type": "stream",
     "text": [
      "<class 'pandas.core.frame.DataFrame'>\n",
      "Int64Index: 77 entries, 3 to 10\n",
      "Data columns (total 16 columns):\n",
      " #   Column         Non-Null Count  Dtype  \n",
      "---  ------         --------------  -----  \n",
      " 0   name           77 non-null     object \n",
      " 1   Manufacturer   77 non-null     object \n",
      " 2   type           77 non-null     object \n",
      " 3   calories       77 non-null     int64  \n",
      " 4   protein        77 non-null     int64  \n",
      " 5   fat            77 non-null     int64  \n",
      " 6   sodium         77 non-null     int64  \n",
      " 7   fiber          77 non-null     float64\n",
      " 8   Carbohydrates  77 non-null     float64\n",
      " 9   sugars         77 non-null     int64  \n",
      " 10  Potassium      77 non-null     int64  \n",
      " 11  vitamins       77 non-null     int64  \n",
      " 12  shelf          77 non-null     int64  \n",
      " 13  weight         77 non-null     float64\n",
      " 14  cups           77 non-null     float64\n",
      " 15  rating         77 non-null     float64\n",
      "dtypes: float64(5), int64(8), object(3)\n",
      "memory usage: 10.2+ KB\n"
     ]
    }
   ],
   "source": [
    "df.info()"
   ]
  },
  {
   "cell_type": "code",
   "execution_count": 5,
   "id": "1eaac80e",
   "metadata": {},
   "outputs": [
    {
     "name": "stdout",
     "output_type": "stream",
     "text": [
      "data frame shape : \n"
     ]
    },
    {
     "data": {
      "text/plain": [
       "(77, 16)"
      ]
     },
     "execution_count": 5,
     "metadata": {},
     "output_type": "execute_result"
    }
   ],
   "source": [
    "print(\"data frame shape : \")\n",
    "df.shape"
   ]
  },
  {
   "cell_type": "code",
   "execution_count": 6,
   "id": "b0d7982f",
   "metadata": {},
   "outputs": [
    {
     "name": "stdout",
     "output_type": "stream",
     "text": [
      "basic statistical information:\n"
     ]
    },
    {
     "data": {
      "text/html": [
       "<div>\n",
       "<style scoped>\n",
       "    .dataframe tbody tr th:only-of-type {\n",
       "        vertical-align: middle;\n",
       "    }\n",
       "\n",
       "    .dataframe tbody tr th {\n",
       "        vertical-align: top;\n",
       "    }\n",
       "\n",
       "    .dataframe thead th {\n",
       "        text-align: right;\n",
       "    }\n",
       "</style>\n",
       "<table border=\"1\" class=\"dataframe\">\n",
       "  <thead>\n",
       "    <tr style=\"text-align: right;\">\n",
       "      <th></th>\n",
       "      <th>calories</th>\n",
       "      <th>protein</th>\n",
       "      <th>fat</th>\n",
       "      <th>sodium</th>\n",
       "      <th>fiber</th>\n",
       "      <th>Carbohydrates</th>\n",
       "      <th>sugars</th>\n",
       "      <th>Potassium</th>\n",
       "      <th>vitamins</th>\n",
       "      <th>shelf</th>\n",
       "      <th>weight</th>\n",
       "      <th>cups</th>\n",
       "      <th>rating</th>\n",
       "    </tr>\n",
       "  </thead>\n",
       "  <tbody>\n",
       "    <tr>\n",
       "      <th>count</th>\n",
       "      <td>77.000000</td>\n",
       "      <td>77.000000</td>\n",
       "      <td>77.000000</td>\n",
       "      <td>77.000000</td>\n",
       "      <td>77.000000</td>\n",
       "      <td>77.000000</td>\n",
       "      <td>77.000000</td>\n",
       "      <td>77.000000</td>\n",
       "      <td>77.000000</td>\n",
       "      <td>77.000000</td>\n",
       "      <td>77.000000</td>\n",
       "      <td>77.000000</td>\n",
       "      <td>77.000000</td>\n",
       "    </tr>\n",
       "    <tr>\n",
       "      <th>mean</th>\n",
       "      <td>106.883117</td>\n",
       "      <td>2.545455</td>\n",
       "      <td>1.012987</td>\n",
       "      <td>159.675325</td>\n",
       "      <td>2.151948</td>\n",
       "      <td>14.597403</td>\n",
       "      <td>6.922078</td>\n",
       "      <td>96.077922</td>\n",
       "      <td>28.246753</td>\n",
       "      <td>2.207792</td>\n",
       "      <td>1.029610</td>\n",
       "      <td>0.821039</td>\n",
       "      <td>42.665705</td>\n",
       "    </tr>\n",
       "    <tr>\n",
       "      <th>std</th>\n",
       "      <td>19.484119</td>\n",
       "      <td>1.094790</td>\n",
       "      <td>1.006473</td>\n",
       "      <td>83.832295</td>\n",
       "      <td>2.383364</td>\n",
       "      <td>4.278956</td>\n",
       "      <td>4.444885</td>\n",
       "      <td>71.286813</td>\n",
       "      <td>22.342523</td>\n",
       "      <td>0.832524</td>\n",
       "      <td>0.150477</td>\n",
       "      <td>0.232716</td>\n",
       "      <td>14.047289</td>\n",
       "    </tr>\n",
       "    <tr>\n",
       "      <th>min</th>\n",
       "      <td>50.000000</td>\n",
       "      <td>1.000000</td>\n",
       "      <td>0.000000</td>\n",
       "      <td>0.000000</td>\n",
       "      <td>0.000000</td>\n",
       "      <td>-1.000000</td>\n",
       "      <td>-1.000000</td>\n",
       "      <td>-1.000000</td>\n",
       "      <td>0.000000</td>\n",
       "      <td>1.000000</td>\n",
       "      <td>0.500000</td>\n",
       "      <td>0.250000</td>\n",
       "      <td>18.042851</td>\n",
       "    </tr>\n",
       "    <tr>\n",
       "      <th>25%</th>\n",
       "      <td>100.000000</td>\n",
       "      <td>2.000000</td>\n",
       "      <td>0.000000</td>\n",
       "      <td>130.000000</td>\n",
       "      <td>1.000000</td>\n",
       "      <td>12.000000</td>\n",
       "      <td>3.000000</td>\n",
       "      <td>40.000000</td>\n",
       "      <td>25.000000</td>\n",
       "      <td>1.000000</td>\n",
       "      <td>1.000000</td>\n",
       "      <td>0.670000</td>\n",
       "      <td>33.174094</td>\n",
       "    </tr>\n",
       "    <tr>\n",
       "      <th>50%</th>\n",
       "      <td>110.000000</td>\n",
       "      <td>3.000000</td>\n",
       "      <td>1.000000</td>\n",
       "      <td>180.000000</td>\n",
       "      <td>2.000000</td>\n",
       "      <td>14.000000</td>\n",
       "      <td>7.000000</td>\n",
       "      <td>90.000000</td>\n",
       "      <td>25.000000</td>\n",
       "      <td>2.000000</td>\n",
       "      <td>1.000000</td>\n",
       "      <td>0.750000</td>\n",
       "      <td>40.400208</td>\n",
       "    </tr>\n",
       "    <tr>\n",
       "      <th>75%</th>\n",
       "      <td>110.000000</td>\n",
       "      <td>3.000000</td>\n",
       "      <td>2.000000</td>\n",
       "      <td>210.000000</td>\n",
       "      <td>3.000000</td>\n",
       "      <td>17.000000</td>\n",
       "      <td>11.000000</td>\n",
       "      <td>120.000000</td>\n",
       "      <td>25.000000</td>\n",
       "      <td>3.000000</td>\n",
       "      <td>1.000000</td>\n",
       "      <td>1.000000</td>\n",
       "      <td>50.828392</td>\n",
       "    </tr>\n",
       "    <tr>\n",
       "      <th>max</th>\n",
       "      <td>160.000000</td>\n",
       "      <td>6.000000</td>\n",
       "      <td>5.000000</td>\n",
       "      <td>320.000000</td>\n",
       "      <td>14.000000</td>\n",
       "      <td>23.000000</td>\n",
       "      <td>15.000000</td>\n",
       "      <td>330.000000</td>\n",
       "      <td>100.000000</td>\n",
       "      <td>3.000000</td>\n",
       "      <td>1.500000</td>\n",
       "      <td>1.500000</td>\n",
       "      <td>93.704912</td>\n",
       "    </tr>\n",
       "  </tbody>\n",
       "</table>\n",
       "</div>"
      ],
      "text/plain": [
       "         calories    protein        fat      sodium      fiber  Carbohydrates  \\\n",
       "count   77.000000  77.000000  77.000000   77.000000  77.000000      77.000000   \n",
       "mean   106.883117   2.545455   1.012987  159.675325   2.151948      14.597403   \n",
       "std     19.484119   1.094790   1.006473   83.832295   2.383364       4.278956   \n",
       "min     50.000000   1.000000   0.000000    0.000000   0.000000      -1.000000   \n",
       "25%    100.000000   2.000000   0.000000  130.000000   1.000000      12.000000   \n",
       "50%    110.000000   3.000000   1.000000  180.000000   2.000000      14.000000   \n",
       "75%    110.000000   3.000000   2.000000  210.000000   3.000000      17.000000   \n",
       "max    160.000000   6.000000   5.000000  320.000000  14.000000      23.000000   \n",
       "\n",
       "          sugars   Potassium    vitamins      shelf     weight       cups  \\\n",
       "count  77.000000   77.000000   77.000000  77.000000  77.000000  77.000000   \n",
       "mean    6.922078   96.077922   28.246753   2.207792   1.029610   0.821039   \n",
       "std     4.444885   71.286813   22.342523   0.832524   0.150477   0.232716   \n",
       "min    -1.000000   -1.000000    0.000000   1.000000   0.500000   0.250000   \n",
       "25%     3.000000   40.000000   25.000000   1.000000   1.000000   0.670000   \n",
       "50%     7.000000   90.000000   25.000000   2.000000   1.000000   0.750000   \n",
       "75%    11.000000  120.000000   25.000000   3.000000   1.000000   1.000000   \n",
       "max    15.000000  330.000000  100.000000   3.000000   1.500000   1.500000   \n",
       "\n",
       "          rating  \n",
       "count  77.000000  \n",
       "mean   42.665705  \n",
       "std    14.047289  \n",
       "min    18.042851  \n",
       "25%    33.174094  \n",
       "50%    40.400208  \n",
       "75%    50.828392  \n",
       "max    93.704912  "
      ]
     },
     "execution_count": 6,
     "metadata": {},
     "output_type": "execute_result"
    }
   ],
   "source": [
    "print(\"basic statistical information:\")\n",
    "df.describe()"
   ]
  },
  {
   "cell_type": "code",
   "execution_count": 47,
   "id": "8bdd3ce7",
   "metadata": {},
   "outputs": [
    {
     "data": {
      "text/plain": [
       "Text(0.5, 0, 'rating')"
      ]
     },
     "execution_count": 47,
     "metadata": {},
     "output_type": "execute_result"
    },
    {
     "data": {
      "image/png": "[encoded data removed]",
      "text/plain": [
       "<Figure size 432x432 with 1 Axes>"
      ]
     },
     "metadata": {},
     "output_type": "display_data"
    }
   ],
   "source": [
    "plt.figure(figsize=(6,6))\n",
    "plt.hist(df[\"rating\"],bins=15,color=\"black\")\n",
    "plt.title(\"distribution of cereal rating\")\n",
    "plt.xticks([0,10,20,30,40,50,60,70,80,90,100])\n",
    "plt.xlabel(\"rating\")"
   ]
  },
  {
   "cell_type": "code",
   "execution_count": 8,
   "id": "02c708a1",
   "metadata": {},
   "outputs": [
    {
     "data": {
      "text/plain": [
       "<matplotlib.legend.Legend at 0x1553b106ca0>"
      ]
     },
     "execution_count": 8,
     "metadata": {},
     "output_type": "execute_result"
    },
    {
     "data": {
      "image/png": "[encoded data removed]",
      "text/plain": [
       "<Figure size 432x432 with 1 Axes>"
      ]
     },
     "metadata": {},
     "output_type": "display_data"
    }
   ],
   "source": [
    "plt.figure(figsize=(6,6))\n",
    "count_cold= len(df[df['type']=='C'])\n",
    "count_hot= len(df[df['type']=='H'])\n",
    "list_count_type = [count_cold,count_hot]\n",
    "type_labels = [\"Cold\", \"Hot\"]\n",
    "patches, texts = plt.pie(list_count_type, colors=['blue','red'])\n",
    "plt.legend(patches, type_labels, loc=\"best\")\n"
   ]
  },
  {
   "cell_type": "code",
   "execution_count": 68,
   "id": "643d33dc",
   "metadata": {},
   "outputs": [
    {
     "data": {
      "image/png": "[encoded data removed]",
      "text/plain": [
       "<Figure size 864x576 with 1 Axes>"
      ]
     },
     "metadata": {},
     "output_type": "display_data"
    }
   ],
   "source": [
    "#set the creales prasentation(color) by there temperature\n",
    "area = df['rating']*5\n",
    "colors=[]\n",
    "for i,r in df.iterrows() :\n",
    "    if  r['type']=='C':\n",
    "        colors.append('blue')\n",
    "    else:\n",
    "        colors.append('red')\n",
    "        \n",
    "# Set the figure style and initalize a new figure\n",
    "plt.style.use('fivethirtyeight')\n",
    "fig = plt.figure(figsize=(12,8))\n",
    "\n",
    "# Create a scatter plot of rating versus calories\n",
    "plt.scatter(df['rating'],df['calories'], s=area, c=colors, alpha=0.5)\n",
    "\n",
    "\n",
    "# Create a title and axis labels\n",
    "plt.title(\"Cereal rating by calories\")\n",
    "plt.xlabel('Rating') \n",
    "plt.ylabel('Calories') \n",
    "\n",
    "# Show the plot\n",
    "plt.show()"
   ]
  },
  {
   "cell_type": "markdown",
   "id": "e725d04f",
   "metadata": {},
   "source": [
    "### Conclusions:\n",
    "It can be seen that the smaller the number of calories, the higher the rating of the product."
   ]
  },
  {
   "cell_type": "code",
   "execution_count": 92,
   "id": "6b7ad132",
   "metadata": {},
   "outputs": [
    {
     "data": {
      "text/plain": [
       "<matplotlib.legend.Legend at 0x1553e274ee0>"
      ]
     },
     "execution_count": 92,
     "metadata": {},
     "output_type": "execute_result"
    },
    {
     "data": {
      "image/png": "[encoded data removed]",
      "text/plain": [
       "<Figure size 432x432 with 1 Axes>"
      ]
     },
     "metadata": {},
     "output_type": "display_data"
    }
   ],
   "source": [
    "plt.figure(figsize=(6,6))\n",
    "count_A= len(df[df['Manufacturer']=='A'])\n",
    "count_G= len(df[df['Manufacturer']=='G'])\n",
    "count_K= len(df[df['Manufacturer']=='K'])\n",
    "count_N= len(df[df['Manufacturer']=='N'])\n",
    "count_P= len(df[df['Manufacturer']=='P'])\n",
    "count_Q= len(df[df['Manufacturer']=='Q'])\n",
    "count_R= len(df[df['Manufacturer']=='R'])\n",
    "list_count_type = [count_A,count_G,count_K,count_N,count_P,count_Q,count_R]\n",
    "type_labels = [\"American Home Food Products\",\"General Mills\" ,\"Kelloggs\",\"Nabisco\",\"Post\",\"Quaker Oats\",\"Ralston Purina\"]\n",
    "patches, texts = plt.pie(list_count_type, colors=['blue','green','cyan','magenta','white','yellow','red'])\n",
    "plt.legend(patches, type_labels, bbox_to_anchor=(1.05, 1), loc='upper left')"
   ]
  },
  {
   "cell_type": "code",
   "execution_count": 23,
   "id": "b677bd43",
   "metadata": {
    "scrolled": false
   },
   "outputs": [
    {
     "data": {
      "text/plain": [
       "Manufacturer\n",
       "A    54.850917\n",
       "G    34.485852\n",
       "K    44.038462\n",
       "N    67.968567\n",
       "P    41.705744\n",
       "Name: rating, dtype: float64"
      ]
     },
     "execution_count": 23,
     "metadata": {},
     "output_type": "execute_result"
    }
   ],
   "source": [
    "rating_groun_by_Manufacturer = df.groupby(\"Manufacturer\")[\"rating\"].mean()\n",
    "rating_groun_by_Manufacturer.head()"
   ]
  },
  {
   "cell_type": "markdown",
   "id": "f39dbe93",
   "metadata": {},
   "source": [
    "### mfr: Manufacturer of cereal <br>\n",
    "A = American Home Food Products <br> \n",
    "G = General Mills <br> \n",
    "K = Kelloggs <br> \n",
    "N = Nabisco <br> \n",
    "P = Post <br>\n",
    "Q = Quaker Oats <br> \n",
    "R = Ralston Purina <br> "
   ]
  },
  {
   "cell_type": "code",
   "execution_count": 95,
   "id": "7d834796",
   "metadata": {
    "scrolled": true
   },
   "outputs": [
    {
     "data": {
      "text/plain": [
       "<matplotlib.legend.Legend at 0x1553e4bff40>"
      ]
     },
     "execution_count": 95,
     "metadata": {},
     "output_type": "execute_result"
    },
    {
     "data": {
      "image/png": "[encoded data removed]",
      "text/plain": [
       "<Figure size 432x288 with 1 Axes>"
      ]
     },
     "metadata": {},
     "output_type": "display_data"
    }
   ],
   "source": [
    "df[df[\"Manufacturer\"]==\"A\"][\"rating\"].hist(alpha=0.5,bins=15)\n",
    "df[df[\"Manufacturer\"]==\"G\"][\"rating\"].hist(alpha=0.5,bins=15)\n",
    "df[df[\"Manufacturer\"]==\"K\"][\"rating\"].hist(alpha=0.5,bins=15)\n",
    "df[df[\"Manufacturer\"]==\"N\"][\"rating\"].hist(alpha=0.5,bins=15)\n",
    "df[df[\"Manufacturer\"]==\"P\"][\"rating\"].hist(alpha=0.5,bins=15)\n",
    "df[df[\"Manufacturer\"]==\"Q\"][\"rating\"].hist(alpha=0.5,bins=15)\n",
    "df[df[\"Manufacturer\"]==\"R\"][\"rating\"].hist(alpha=0.5,bins=15)\n",
    "plt.legend([\"A\",\"G\",\"K\",\"N\",\"P\",\"Q\",\"R\"])\n"
   ]
  },
  {
   "cell_type": "code",
   "execution_count": 97,
   "id": "892970e7",
   "metadata": {},
   "outputs": [
    {
     "name": "stderr",
     "output_type": "stream",
     "text": [
      "C:\\Users\\CORALR~1\\AppData\\Local\\Temp/ipykernel_3356/829523572.py:1: FutureWarning: Indexing with multiple keys (implicitly converted to a tuple of keys) will be deprecated, use a list instead.\n",
      "  raiting_calories_by_manufa = df.groupby(\"Manufacturer\")[\"rating\",\"calories\"].mean()\n"
     ]
    },
    {
     "data": {
      "text/html": [
       "<div>\n",
       "<style scoped>\n",
       "    .dataframe tbody tr th:only-of-type {\n",
       "        vertical-align: middle;\n",
       "    }\n",
       "\n",
       "    .dataframe tbody tr th {\n",
       "        vertical-align: top;\n",
       "    }\n",
       "\n",
       "    .dataframe thead th {\n",
       "        text-align: right;\n",
       "    }\n",
       "</style>\n",
       "<table border=\"1\" class=\"dataframe\">\n",
       "  <thead>\n",
       "    <tr style=\"text-align: right;\">\n",
       "      <th></th>\n",
       "      <th>rating</th>\n",
       "      <th>calories</th>\n",
       "    </tr>\n",
       "    <tr>\n",
       "      <th>Manufacturer</th>\n",
       "      <th></th>\n",
       "      <th></th>\n",
       "    </tr>\n",
       "  </thead>\n",
       "  <tbody>\n",
       "    <tr>\n",
       "      <th>A</th>\n",
       "      <td>54.850917</td>\n",
       "      <td>100.000000</td>\n",
       "    </tr>\n",
       "    <tr>\n",
       "      <th>G</th>\n",
       "      <td>34.485852</td>\n",
       "      <td>111.363636</td>\n",
       "    </tr>\n",
       "    <tr>\n",
       "      <th>K</th>\n",
       "      <td>44.038462</td>\n",
       "      <td>108.695652</td>\n",
       "    </tr>\n",
       "    <tr>\n",
       "      <th>N</th>\n",
       "      <td>67.968567</td>\n",
       "      <td>86.666667</td>\n",
       "    </tr>\n",
       "    <tr>\n",
       "      <th>P</th>\n",
       "      <td>41.705744</td>\n",
       "      <td>108.888889</td>\n",
       "    </tr>\n",
       "    <tr>\n",
       "      <th>Q</th>\n",
       "      <td>42.915990</td>\n",
       "      <td>95.000000</td>\n",
       "    </tr>\n",
       "    <tr>\n",
       "      <th>R</th>\n",
       "      <td>41.542997</td>\n",
       "      <td>115.000000</td>\n",
       "    </tr>\n",
       "  </tbody>\n",
       "</table>\n",
       "</div>"
      ],
      "text/plain": [
       "                 rating    calories\n",
       "Manufacturer                       \n",
       "A             54.850917  100.000000\n",
       "G             34.485852  111.363636\n",
       "K             44.038462  108.695652\n",
       "N             67.968567   86.666667\n",
       "P             41.705744  108.888889\n",
       "Q             42.915990   95.000000\n",
       "R             41.542997  115.000000"
      ]
     },
     "execution_count": 97,
     "metadata": {},
     "output_type": "execute_result"
    }
   ],
   "source": [
    "raiting_calories_by_manufa = df.groupby(\"Manufacturer\")[\"rating\",\"calories\"].mean()\n",
    "raiting_calories_by_manufa"
   ]
  },
  {
   "cell_type": "code",
   "execution_count": null,
   "id": "478303fa",
   "metadata": {},
   "outputs": [],
   "source": []
  },
  {
   "cell_type": "code",
   "execution_count": 86,
   "id": "885a2d86",
   "metadata": {},
   "outputs": [
    {
     "data": {
      "image/png": "[encoded data removed]",
      "text/plain": [
       "<Figure size 864x576 with 1 Axes>"
      ]
     },
     "metadata": {},
     "output_type": "display_data"
    }
   ],
   "source": [
    "colors_new=[]\n",
    "for i,r in df.iterrows() :\n",
    "    if  r['Manufacturer']=='A':\n",
    "        colors_new.append('blue')\n",
    "    elif  r['Manufacturer']=='G':\n",
    "        colors_new.append('green')\n",
    "    elif  r['Manufacturer']=='K':\n",
    "        colors_new.append('cyan')\n",
    "    elif  r['Manufacturer']=='N':\n",
    "        colors_new.append('magenta')\n",
    "    elif  r['Manufacturer']=='P':\n",
    "        colors_new.append('white')\n",
    "    elif  r['Manufacturer']=='Q':\n",
    "        colors_new.append('yellow')\n",
    "    else:\n",
    "        colors_new.append('red')\n",
    "        \n",
    "# Set the figure style and initalize a new figure\n",
    "plt.style.use('fivethirtyeight')\n",
    "fig = plt.figure(figsize=(12,8))\n",
    "\n",
    "# Create a scatter plot of rating versus calories\n",
    "scatter = plt.scatter(df['rating'],df['calories'], s=area, c=colors_new, alpha=0.5)\n",
    "# Create a title and axis labels\n",
    "plt.title(\"Cereal rating by calories AND types of manufacturer\")\n",
    "plt.xlabel('Rating') \n",
    "plt.ylabel('Calories') \n",
    "\n",
    "# Show the plot\n",
    "plt.show()"
   ]
  },
  {
   "cell_type": "code",
   "execution_count": null,
   "id": "4dc9d4be",
   "metadata": {},
   "outputs": [],
   "source": []
  },
  {
   "cell_type": "code",
   "execution_count": null,
   "id": "6beb02b8",
   "metadata": {},
   "outputs": [],
   "source": []
  }
 ],
 "metadata": {
  "kernelspec": {
   "display_name": "Python 3 (ipykernel)",
   "language": "python",
   "name": "python3"
  },
  "language_info": {
   "codemirror_mode": {
    "name": "ipython",
    "version": 3
   },
   "file_extension": ".py",
   "mimetype": "text/x-python",
   "name": "python",
   "nbconvert_exporter": "python",
   "pygments_lexer": "ipython3",
   "version": "3.9.0"
  }
 },
 "nbformat": 4,
 "nbformat_minor": 5
}
